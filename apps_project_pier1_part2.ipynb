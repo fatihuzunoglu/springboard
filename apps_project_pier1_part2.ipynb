{
 "cells": [
  {
   "cell_type": "code",
   "execution_count": null,
   "id": "93d2c82b",
   "metadata": {},
   "outputs": [
    {
     "name": "stderr",
     "output_type": "stream",
     "text": [
      "/var/folders/y4/gwklw6bn515619y8_gmw0mrm0000gn/T/ipykernel_8444/666208873.py:15: FutureWarning: The default value of regex will change from True to False in a future version. In addition, single character regular expressions will *not* be treated as literal strings when regex=True.\n",
      "  nosymb = Google[\"Price\"].str.replace(\"$\", \"\")\n",
      "/var/folders/y4/gwklw6bn515619y8_gmw0mrm0000gn/T/ipykernel_8444/666208873.py:28: FutureWarning: The frame.append method is deprecated and will be removed from pandas in a future version. Use pandas.concat instead.\n",
      "  df = Google.append(Apple, ignore_index=True)\n"
     ]
    },
    {
     "name": "stdout",
     "output_type": "stream",
     "text": [
      "(18037, 5)\n",
      "(16563, 5)\n",
      "NormaltestResult(statistic=1778.9974234584017, pvalue=0.0)\n",
      "NormaltestResult(statistic=3678.6157187516856, pvalue=0.0)\n"
     ]
    }
   ],
   "source": [
    "import pandas as pd\n",
    "import numpy as np\n",
    "import matplotlib.pyplot as plt\n",
    "from scipy import stats\n",
    "import random\n",
    "google = \"google.csv\"\n",
    "Google = pd.read_csv(google)\n",
    "Google = Google[['Category', 'Rating', 'Reviews', 'Price']]\n",
    "Google.head(3)\n",
    "Google.dtypes\n",
    "Google['Price'].unique()\n",
    "Google[Google['Price']=='Everyone']\n",
    "Google = Google[Google['Price'] != 'Everyone']\n",
    "Google['Price'].unique()\n",
    "nosymb = Google[\"Price\"].str.replace(\"$\", \"\")\n",
    "Google[\"Price\"] = pd.to_numeric(nosymb)\n",
    "Google['Reviews'] = pd.to_numeric(Google['Reviews'])\n",
    "Google['platform'] = 'google'\n",
    "Google.dtypes\n",
    "apple = 'apple.csv'\n",
    "Apple = pd.read_csv(apple)\n",
    "Apple = Apple[['prime_genre', 'user_rating', 'rating_count_tot', 'price']]\n",
    "Apple.head(3)\n",
    "Apple['platform'] = 'apple'\n",
    "old_names = Apple.columns\n",
    "new_names = Google.columns\n",
    "Apple = Apple.rename(columns = dict(zip(old_names,new_names)))\n",
    "df = Google.append(Apple, ignore_index=True)\n",
    "df.sample(12)\n",
    "print(df.shape)\n",
    "df = df.dropna()\n",
    "print(df.shape)\n",
    "df[df['Reviews'] == 0].count()\n",
    "df = df[df['Reviews'] != 0]\n",
    "df.groupby(by='platform')['Rating'].describe()\n",
    "df.boxplot(by='platform', column=['Rating'], grid=False, rot=45, fontsize=15)\n",
    "apple = df[df['platform'] == 'apple']['Rating']\n",
    "google = df[df['platform'] == 'google']['Rating']\n",
    "apple_normal = stats.normaltest(apple)\n",
    "print(apple_normal)\n",
    "google_normal = stats.normaltest(google)\n",
    "print(google_normal)\n",
    "histoApple = plt.hist(apple)\n",
    "histoGoogle = plt.hist(Google)\n",
    "df['Permutation1'] = np.random.permutation(df['Rating'])\n",
    "df.groupby(by='platform')['Permutation1'].describe()\n",
    "df.groupby(by='platform')['Rating'].describe()\n",
    "\n",
    "difference = list()\n",
    "\n",
    "for i in range(10000):\n",
    "\n",
    "    permutation = np.random.permutation(df['Rating'])\n",
    "    difference.append(np.mean(permutation[df['platform']=='apple']) - np.mean(permutation[df['platform']=='google']))"
   ]
  },
  {
   "cell_type": "code",
   "execution_count": null,
   "id": "1de48c76",
   "metadata": {},
   "outputs": [],
   "source": []
  }
 ],
 "metadata": {
  "kernelspec": {
   "display_name": "Python 3 (ipykernel)",
   "language": "python",
   "name": "python3"
  },
  "language_info": {
   "codemirror_mode": {
    "name": "ipython",
    "version": 3
   },
   "file_extension": ".py",
   "mimetype": "text/x-python",
   "name": "python",
   "nbconvert_exporter": "python",
   "pygments_lexer": "ipython3",
   "version": "3.9.13"
  }
 },
 "nbformat": 4,
 "nbformat_minor": 5
}
